{
 "cells": [
  {
   "cell_type": "markdown",
   "metadata": {},
   "source": [
    "<h1>Asimov Academy<br>\n",
    "Lybraries do Data Analysis using Phyton</h1>\n",
    "\n",
    "<hr>\n",
    "<img src=\"/workspaces/UNIVALI/DATA_python/Asimov_capa.png\" alt=\"Python Dashboard\">\n",
    "<hr>\n",
    "<br>\n",
    "Testes com o conector CSV da biblioteca do Panda com webservice de Dasboard...\n",
    "Marcos Soares - 28.Set.2023"
   ]
  },
  {
   "cell_type": "code",
   "execution_count": 2,
   "metadata": {},
   "outputs": [
    {
     "name": "stderr",
     "output_type": "stream",
     "text": [
      "2023-09-28 22:50:48.675 Session state does not function when running a script without `streamlit run`\n"
     ]
    }
   ],
   "source": [
    "import streamlit as st\n",
    "import pandas as pd\n",
    "\n",
    "import streamlit as st\n",
    "x = st.slider(\"Select a value\")\n",
    "st.write(x, \"squared is\", x * x)"
   ]
  }
 ],
 "metadata": {
  "kernelspec": {
   "display_name": "Python 3",
   "language": "python",
   "name": "python3"
  },
  "language_info": {
   "codemirror_mode": {
    "name": "ipython",
    "version": 3
   },
   "file_extension": ".py",
   "mimetype": "text/x-python",
   "name": "python",
   "nbconvert_exporter": "python",
   "pygments_lexer": "ipython3",
   "version": "3.10.8"
  },
  "orig_nbformat": 4
 },
 "nbformat": 4,
 "nbformat_minor": 2
}
