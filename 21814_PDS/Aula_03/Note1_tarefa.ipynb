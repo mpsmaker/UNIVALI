{
 "cells": [
  {
   "cell_type": "markdown",
   "metadata": {},
   "source": [
    "3) Transformação de variáveis\n",
    "    - Reversao no tempo (folding) - y[n] = x[-n]\n",
    "\n",
    "    - Deslocamento no tempo - y[n] = x[n - n0]\n",
    "\n",
    "4) Convolução (Linearidade Invariante no Tempo - LIT)\n",
    "                                        |------- convolução\n",
    "    - Invariacao no tempo - y[n] = x[n] * h[n]\n",
    "\n",
    "5) Tarefas\n",
    "\n",
    "    - Fazer a conversao matlab para o python\n",
    "    - Fazer de forma gráfica (manual)\n",
    "        - considere o filtro media movel da aula passada com k=8\n",
    "        - a saida do filtro para as seguintes entradas:\n",
    "            - impulso unitário, degrau unitário e o vetor\n",
    "            x[n] = [1, 0.5, 0.25, 0.125]"
   ]
  },
  {
   "cell_type": "code",
   "execution_count": null,
   "metadata": {},
   "outputs": [],
   "source": []
  }
 ],
 "metadata": {
  "language_info": {
   "name": "python"
  },
  "orig_nbformat": 4
 },
 "nbformat": 4,
 "nbformat_minor": 2
}
