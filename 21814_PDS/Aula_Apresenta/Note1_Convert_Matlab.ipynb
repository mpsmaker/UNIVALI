{
 "cells": [
  {
   "cell_type": "markdown",
   "metadata": {},
   "source": [
    "MPS Test"
   ]
  },
  {
   "cell_type": "code",
   "execution_count": 2,
   "metadata": {},
   "outputs": [],
   "source": [
    "#To open our WAV file, we use the WAVE module in Python, which can be imported and called as follows:\n",
    "#\n",
    "import wave"
   ]
  }
 ],
 "metadata": {
  "kernelspec": {
   "display_name": "Python 3 (ipykernel)",
   "language": "python",
   "name": "python3"
  },
  "orig_nbformat": 4
 },
 "nbformat": 4,
 "nbformat_minor": 2
}
