{
 "cells": [
  {
   "cell_type": "markdown",
   "metadata": {},
   "source": [
    "MPS Test"
   ]
  },
  {
   "cell_type": "code",
   "execution_count": 1,
   "metadata": {},
   "outputs": [],
   "source": [
    "#To open our WAV file, we use the WAVE module in Python, which can be imported and called as follows:\n",
    "# /workspaces/UNIVALI/21814_PDS/Aula_Apresenta/Anexo_38986932.pcm\n",
    "# /workspaces/UNIVALI/21814_PDS/Aula_Apresenta/Anexo_38986932.wav\n",
    "import wave\n",
    "wav_obj = wave.open('/workspaces/UNIVALI/21814_PDS/Aula_Apresenta/Anexo_38986932.wav', 'rb')"
   ]
  },
  {
   "cell_type": "code",
   "execution_count": 2,
   "metadata": {},
   "outputs": [
    {
     "data": {
      "text/plain": [
       "8000"
      ]
     },
     "execution_count": 2,
     "metadata": {},
     "output_type": "execute_result"
    }
   ],
   "source": [
    "#A sound wave is a continuous quantity that needs to be sampled at some time interval to digitize it.\n",
    "#The sampling rate quantifies how many samples of the sound are taken every second. We can access this information using the following method:\n",
    "#\n",
    "sample_freq = wav_obj.getframerate()\n",
    "sample_freq"
   ]
  },
  {
   "cell_type": "code",
   "execution_count": 1,
   "metadata": {},
   "outputs": [
    {
     "data": {
      "text/plain": [
       "memmap([ -35,  -42,  -50, ..., -134, -136, -137], dtype=int16)"
      ]
     },
     "execution_count": 1,
     "metadata": {},
     "output_type": "execute_result"
    }
   ],
   "source": [
    "# Two examples of super-simplistic ways to read PCM data from Python using Numpy \n",
    "# to handle the data and Matplotlib to display it. First, get some junk audio in PCM format (test.pcm).\n",
    "#\n",
    "import numpy\n",
    "data = numpy.memmap(\"/workspaces/UNIVALI/21814_PDS/Aula_Apresenta/Anexo_38986932.pcm\", dtype='h', mode='r')\n",
    "data"
   ]
  },
  {
   "cell_type": "code",
   "execution_count": 6,
   "metadata": {},
   "outputs": [
    {
     "data": {
      "text/plain": [
       "memmap([ -35,  -42,  -50, ..., -134, -136, -137], dtype=int16)"
      ]
     },
     "execution_count": 6,
     "metadata": {},
     "output_type": "execute_result"
    }
   ],
   "source": [
    "# To graph this data, use matplotlib like so:\n",
    "\n",
    "import numpy, pylab\n",
    "data2 = numpy.memmap(\"/workspaces/UNIVALI/21814_PDS/Aula_Apresenta/Anexo_38986932.pcm\", dtype='h', mode='r')\n",
    "#print data\n",
    "data2\n",
    "#pylab.plot(data)\n",
    "#pylab.show()"
   ]
  }
 ],
 "metadata": {
  "kernelspec": {
   "display_name": "Python 3 (ipykernel)",
   "language": "python",
   "name": "python3"
  },
  "language_info": {
   "codemirror_mode": {
    "name": "ipython",
    "version": 3
   },
   "file_extension": ".py",
   "mimetype": "text/x-python",
   "name": "python",
   "nbconvert_exporter": "python",
   "pygments_lexer": "ipython3",
   "version": "3.10.8"
  },
  "orig_nbformat": 4
 },
 "nbformat": 4,
 "nbformat_minor": 2
}
