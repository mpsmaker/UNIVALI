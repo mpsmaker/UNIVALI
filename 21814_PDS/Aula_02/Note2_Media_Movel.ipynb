{
 "cells": [
  {
   "cell_type": "markdown",
   "metadata": {},
   "source": [
    "Filtro FIR (Media Movel - 2 vetores - amostras x coeficientes)\n",
    "\n",
    "amostras\n",
    "\n",
    "x[n]\n",
    "x[n-1]\n",
    "x[n-2]\n",
    "x[n-3]\n",
    "\n",
    "\n",
    "coef\n",
    "1\n",
    "-- => k1\n",
    "k\n",
    "\n",
    "1\n",
    "-- => k2\n",
    "k\n",
    "\n",
    "1\n",
    "-- => k3\n",
    "k\n",
    "\n",
    "1\n",
    "-- = k4\n",
    "k\n"
   ]
  },
  {
   "cell_type": "code",
   "execution_count": null,
   "metadata": {},
   "outputs": [],
   "source": []
  }
 ],
 "metadata": {
  "language_info": {
   "name": "python"
  },
  "orig_nbformat": 4
 },
 "nbformat": 4,
 "nbformat_minor": 2
}
