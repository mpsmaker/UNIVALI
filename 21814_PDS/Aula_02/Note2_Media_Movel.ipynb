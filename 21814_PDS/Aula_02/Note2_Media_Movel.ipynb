{
 "cells": [
  {
   "cell_type": "markdown",
   "metadata": {},
   "source": [
    "Filtro FIR Passa Baixa (Media Movel - 2 vetores - amostras x coeficientes)\n",
    "\n",
    "vetor de amostras (len(k))\n",
    "\n",
    "x[n]\n",
    "x[n-1]\n",
    "x[n-2]\n",
    "x[n-3]\n",
    "\n",
    "\n",
    "vetor de coef (len(k))\n",
    "1\n",
    "-- => k1\n",
    "k\n",
    "\n",
    "1\n",
    "-- => k2\n",
    "k\n",
    "\n",
    "1\n",
    "-- => k3\n",
    "k\n",
    "\n",
    "1\n",
    "-- = k4\n",
    "k\n",
    "\n",
    "\n",
    "- Ler cada amostra x[n] e acumular no vetor\n",
    "\n",
    "- Calcula y[n] - 1\\k * x[n]\n",
    "\n",
    "- Desloca o vetor - 1a. posicao - valor atual - os outros deslocam\n",
    "\n",
    "- Usar na entrada um Impulso - vetor onde [n] = 1, restante = 0\n",
    "    - y[n] =    n   = 0 - 1 = 1\\k\n",
    "      k = 4     n-1 = 1 - 0 = 1\\k\n",
    "                n-2 = 2 - 0 = 1\\k\n",
    "                n-3 = 3 - 0 = 1\\k\n",
    "                n-4 = 4 - 0 = 0\n",
    "                ..\n",
    "                n-5 = 5 - 0 = 0\n",
    "\n",
    "- Usar na entrada um degrau - vetor onde todos = 1\n",
    "    - y[n] =    n   = 0 - 1 = 1\\k\n",
    "      k = 4     n-1 = 1 - 1 = 2\\k\n",
    "                n-2 = 2 - 1 = 3\\k\n",
    "                n-3 = 3 - 1 = 4\\k\n",
    "                n-4 = 4 - 1 = 5\\k\n",
    "                n-5 = 5 - 1 = 6\\k\n",
    "                ..\n",
    "\n",
    "- Usar na entrada um Sweep (Ocen)\n",
    "\n",
    "- Testar com diferentes tamanhos de media e salvar o arquivo de saida, por exemplo, k = 4, 8, 16, 32, ...\n"
   ]
  },
  {
   "cell_type": "code",
   "execution_count": 25,
   "metadata": {},
   "outputs": [],
   "source": [
    "import numpy as np\n",
    "import matplotlib.pyplot as plt\n"
   ]
  },
  {
   "cell_type": "code",
   "execution_count": 26,
   "metadata": {},
   "outputs": [],
   "source": [
    "\n",
    "# Definindo o tamanho da Média\n",
    "M = 64\n",
    "\n",
    "# Alocar os vetores\n",
    "x = np.zeros((M, 1))\n",
    "\n",
    "coef = np.zeros((M, 1))"
   ]
  },
  {
   "cell_type": "code",
   "execution_count": 27,
   "metadata": {},
   "outputs": [],
   "source": [
    "# Inicializar os vetores\n",
    "for j in range(M):\n",
    "    coef[j, 0] = 1/M\n",
    "    x[j, 0] = 0"
   ]
  },
  {
   "cell_type": "code",
   "execution_count": 28,
   "metadata": {},
   "outputs": [],
   "source": [
    "# Lendo o arquivo de entrada\n",
    "#with open('/workspaces/UNIVALI/21814_PDS/Aula_01/Sinais_Ocen/Sweep40_3400Hz.pcm', 'rb') as fid:\n",
    "#    s = np.fromfile(fid, dtype=np.int16)\n",
    "    \n",
    "\n",
    "with open('/workspaces/UNIVALI/21814_PDS/Aula_01/Sinais_Ocen/impulso.pcm', 'rb') as fid:\n",
    "    s = np.fromfile(fid, dtype=np.int16)\n",
    "    "
   ]
  },
  {
   "cell_type": "code",
   "execution_count": 29,
   "metadata": {},
   "outputs": [
    {
     "data": {
      "text/plain": [
       "Text(0.5, 1.0, 'Entrada do Filtro')"
      ]
     },
     "execution_count": 29,
     "metadata": {},
     "output_type": "execute_result"
    },
    {
     "data": {
      "image/png": "[encoded data removed]",
      "text/plain": [
       "<Figure size 640x480 with 1 Axes>"
      ]
     },
     "metadata": {},
     "output_type": "display_data"
    }
   ],
   "source": [
    "plt.subplot(2, 1, 1)\n",
    "plt.plot(s)\n",
    "plt.grid()\n",
    "plt.title('Entrada do Filtro')"
   ]
  },
  {
   "cell_type": "code",
   "execution_count": 30,
   "metadata": {},
   "outputs": [],
   "source": [
    "itera = len(s)\n",
    "\n",
    "# Salvar parcelas intermediárias\n",
    "sav_y = np.zeros(itera)"
   ]
  },
  {
   "cell_type": "code",
   "execution_count": 31,
   "metadata": {},
   "outputs": [],
   "source": [
    "# Executa o processamento\n",
    "for j in range(itera):\n",
    "    x[0, 0] = s[j]\n",
    "    # Realizar a Soma de Produto (SOP) - Convolução\n",
    "    y = np.sum(coef * x)\n",
    "    sav_y[j] = y\n",
    "    # Deslocar o vetor de amostra\n",
    "    for n in range(M-1, 0, -1):\n",
    "        x[n, 0] = x[n-1, 0]"
   ]
  },
  {
   "cell_type": "code",
   "execution_count": 33,
   "metadata": {},
   "outputs": [
    {
     "data": {
      "text/plain": [
       "Text(0.5, 1.0, 'Saída do Filtro')"
      ]
     },
     "execution_count": 33,
     "metadata": {},
     "output_type": "execute_result"
    },
    {
     "data": {
      "image/png": "[encoded data removed]",
      "text/plain": [
       "<Figure size 640x480 with 1 Axes>"
      ]
     },
     "metadata": {},
     "output_type": "display_data"
    }
   ],
   "source": [
    "# Plotar a saída\n",
    "plt.subplot(2, 1, 2)\n",
    "plt.stem(sav_y)\n",
    "#plt.stem(n, sav_y)\n",
    "plt.grid()\n",
    "plt.title('Saída do Filtro')"
   ]
  },
  {
   "cell_type": "code",
   "execution_count": 11,
   "metadata": {},
   "outputs": [],
   "source": [
    "# Salvar arquivo de saída\n",
    "with open('saida_mm_sw.pcm', 'wb') as fid2:\n",
    "    sav_y.astype(np.int16).tofile(fid2)"
   ]
  }
 ],
 "metadata": {
  "kernelspec": {
   "display_name": "Python 3",
   "language": "python",
   "name": "python3"
  },
  "language_info": {
   "codemirror_mode": {
    "name": "ipython",
    "version": 3
   },
   "file_extension": ".py",
   "mimetype": "text/x-python",
   "name": "python",
   "nbconvert_exporter": "python",
   "pygments_lexer": "ipython3",
   "version": "3.10.8"
  },
  "orig_nbformat": 4
 },
 "nbformat": 4,
 "nbformat_minor": 2
}
