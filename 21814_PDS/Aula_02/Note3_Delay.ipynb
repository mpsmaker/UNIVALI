{
 "cells": [
  {
   "cell_type": "code",
   "execution_count": null,
   "metadata": {},
   "outputs": [],
   "source": [
    "Ver no Material didatico Enunciado sobre o Delay (No material esta errado Eco)...\n",
    "\n",
    "- Usar na entrada um Impulso - vetor onde [n] = 1, restante = 0\n",
    "    - y[n] =        n   = 0 - 1 = (n * a0) + (n * a1) + (n * a2) ... = a0 \n",
    "      a0 = 0,5      n-1 = 1 - 0 = (n-1 * a0) + (n-1 * a1) + (n-1 * a2) ... = a0\n",
    "      a1 = 0,3      n-2 = 2 - 0 = (n-2 * a0) + (n-2 * a1) + (n-2 * a2) ... = a0\n",
    "      a2 = 0,1      n-3 = 3 - 0 = (n-1 * a0) + (n-1 * a1) + (n-1 * a2) ... = a0\n",
    "                    n-4 = 4 - 0 = (n-1 * a0) + (n-1 * a1) + (n-1 * a2) ... = a0\n",
    "                    n-5 = 5 - 0 = 0\n",
    "                    n-6 = 6 - 0 = 0\n",
    "                    n-7 = 7 - 0 = 0\n",
    "                    n-8 = 8 - 0 = 0\n",
    "\n",
    "\n",
    "- Para testar e ouvir, mudar n1 e n2 maiores - 200 ms t1 e 500ms t2"
   ]
  }
 ],
 "metadata": {
  "language_info": {
   "name": "python"
  },
  "orig_nbformat": 4
 },
 "nbformat": 4,
 "nbformat_minor": 2
}
