{
 "cells": [
  {
   "cell_type": "code",
   "execution_count": null,
   "metadata": {},
   "outputs": [],
   "source": [
    "Ver no Material didatico Enunciado sobre o Delay (No material esta errado Eco)...\n",
    "\n",
    "- Usar na entrada um Impulso - vetor onde [n] = 1, restante = 0\n",
    "    - y[n] =        n   = 0 - 1 = (n * a0) + (n * a1) + (n * a2) ... = a0 \n",
    "      a0 = 0,5      n-1 = 1 - 0 = (n-1 * a0) + (n-1 * a1) + (n-1 * a2) ... = a0\n",
    "      a1 = 0,3      n-2 = 2 - 0 = (n-2 * a0) + (n-2 * a1) + (n-2 * a2) ... = a0\n",
    "      a2 = 0,1      n-3 = 3 - 0 = (n-1 * a0) + (n-1 * a1) + (n-1 * a2) ... = a0\n",
    "                    n-4 = 4 - 0 = (n-1 * a0) + (n-1 * a1) + (n-1 * a2) ... = a0\n",
    "                    n-5 = 5 - 0 = 0\n",
    "                    n-6 = 6 - 0 = 0\n",
    "                    n-7 = 7 - 0 = 0\n",
    "                    n-8 = 8 - 0 = 0\n",
    "\n",
    "\n",
    "- Para testar e ouvir, mudar n1 e n2 maiores - 200 ms t1 e 500ms t2"
   ]
  },
  {
   "cell_type": "code",
   "execution_count": 2,
   "metadata": {},
   "outputs": [],
   "source": [
    "import numpy as np\n",
    "import matplotlib.pyplot as plt"
   ]
  },
  {
   "cell_type": "code",
   "execution_count": 1,
   "metadata": {},
   "outputs": [],
   "source": [
    "# Exemplo delay\n",
    "Fs = 8000\n",
    "t1 = 1.0 * 10 ** -3\n",
    "t2 = 1.5 * 10 ** -3\n",
    "n1 = int(t1 * Fs)\n",
    "n2 = int(t2 * Fs)"
   ]
  },
  {
   "cell_type": "code",
   "execution_count": 3,
   "metadata": {},
   "outputs": [],
   "source": [
    "# Definição dos ganhos\n",
    "a0 = 0.5\n",
    "a1 = 0.3\n",
    "a2 = 0.2"
   ]
  },
  {
   "cell_type": "code",
   "execution_count": 4,
   "metadata": {},
   "outputs": [],
   "source": [
    "tama_delay = n2\n",
    "vetor_delay = np.zeros((tama_delay, 1))"
   ]
  },
  {
   "cell_type": "code",
   "execution_count": 5,
   "metadata": {},
   "outputs": [],
   "source": [
    "# Definindo a entrada\n",
    "entrada = np.zeros((2 * tama_delay, 1))\n",
    "entrada[0, 0] = 1  # Definindo o impulso unitário\n",
    "tama_loop = len(entrada)\n",
    "vet_saida = np.zeros((tama_loop, 1))"
   ]
  },
  {
   "cell_type": "code",
   "execution_count": 6,
   "metadata": {},
   "outputs": [],
   "source": [
    "for j in range(tama_loop):\n",
    "    input = entrada[j, 0]\n",
    "    vetor_delay[0, 0] = input\n",
    "    y = a0 * vetor_delay[0, 0] + a1 * vetor_delay[n1 - 1, 0] + a2 * vetor_delay[n2 - 1, 0]\n",
    "    # Desloca o vetor de delay\n",
    "    for k in range(tama_delay - 1, 0, -1):\n",
    "        vetor_delay[k, 0] = vetor_delay[k - 1, 0]\n",
    "    vet_saida[j, 0] = y"
   ]
  },
  {
   "cell_type": "code",
   "execution_count": 7,
   "metadata": {},
   "outputs": [
    {
     "data": {
      "image/png": "[encoded data removed]",
      "text/plain": [
       "<Figure size 640x480 with 1 Axes>"
      ]
     },
     "metadata": {},
     "output_type": "display_data"
    }
   ],
   "source": [
    "plt.stem(vet_saida)\n",
    "plt.title('Teste Delay')\n",
    "plt.show()"
   ]
  }
 ],
 "metadata": {
  "kernelspec": {
   "display_name": "Python 3",
   "language": "python",
   "name": "python3"
  },
  "language_info": {
   "codemirror_mode": {
    "name": "ipython",
    "version": 3
   },
   "file_extension": ".py",
   "mimetype": "text/x-python",
   "name": "python",
   "nbconvert_exporter": "python",
   "pygments_lexer": "ipython3",
   "version": "3.10.8"
  },
  "orig_nbformat": 4
 },
 "nbformat": 4,
 "nbformat_minor": 2
}
